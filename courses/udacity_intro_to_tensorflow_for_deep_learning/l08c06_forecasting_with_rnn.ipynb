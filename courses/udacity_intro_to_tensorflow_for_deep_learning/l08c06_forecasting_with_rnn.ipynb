{
  "cells": [
    {
      "cell_type": "markdown",
      "metadata": {
        "id": "Za8-Nr5k11fh"
      },
      "source": [
        "##### Copyright 2018 The TensorFlow Authors."
      ]
    },
    {
      "cell_type": "code",
      "execution_count": null,
      "metadata": {
        "cellView": "form",
        "id": "Eq10uEbw0E4l"
      },
      "outputs": [],
      "source": [
        "#@title Licensed under the Apache License, Version 2.0 (the \"License\");\n",
        "# you may not use this file except in compliance with the License.\n",
        "# You may obtain a copy of the License at\n",
        "#\n",
        "# https://www.apache.org/licenses/LICENSE-2.0\n",
        "#\n",
        "# Unless required by applicable law or agreed to in writing, software\n",
        "# distributed under the License is distributed on an \"AS IS\" BASIS,\n",
        "# WITHOUT WARRANTIES OR CONDITIONS OF ANY KIND, either express or implied.\n",
        "# See the License for the specific language governing permissions and\n",
        "# limitations under the License."
      ]
    },
    {
      "cell_type": "markdown",
      "metadata": {
        "id": "nuRx7K-sirJr"
      },
      "source": [
        "# Forecasting with an RNN"
      ]
    },
    {
      "cell_type": "markdown",
      "metadata": {
        "id": "97jsq1rHh2Ds"
      },
      "source": [
        "<table class=\"tfo-notebook-buttons\" align=\"left\">\n",
        "  <td>\n",
        "    <a target=\"_blank\" href=\"https://colab.research.google.com/github/tensorflow/examples/blob/master/courses/udacity_intro_to_tensorflow_for_deep_learning/l08c06_forecasting_with_rnn.ipynb\"><img src=\"https://www.tensorflow.org/images/colab_logo_32px.png\" />Run in Google Colab</a>\n",
        "  </td>\n",
        "  <td>\n",
        "    <a target=\"_blank\" href=\"https://github.com/tensorflow/examples/blob/master/courses/udacity_intro_to_tensorflow_for_deep_learning/l08c06_forecasting_with_rnn.ipynb\"><img src=\"https://www.tensorflow.org/images/GitHub-Mark-32px.png\" />View source on GitHub</a>\n",
        "  </td>\n",
        "</table>"
      ]
    },
    {
      "cell_type": "markdown",
      "metadata": {
        "id": "vidayERjaO5q"
      },
      "source": [
        "## Setup"
      ]
    },
    {
      "cell_type": "code",
      "execution_count": 2,
      "metadata": {
        "id": "gqWabzlJ63nL"
      },
      "outputs": [],
      "source": [
        "import numpy as np\n",
        "import matplotlib.pyplot as plt\n",
        "import tensorflow as tf\n",
        "\n",
        "keras = tf.keras"
      ]
    },
    {
      "cell_type": "code",
      "execution_count": 3,
      "metadata": {
        "id": "cg1hfKCPldZG"
      },
      "outputs": [],
      "source": [
        "def plot_series(time, series, format=\"-\", start=0, end=None, label=None):\n",
        "    plt.plot(time[start:end], series[start:end], format, label=label)\n",
        "    plt.xlabel(\"Time\")\n",
        "    plt.ylabel(\"Value\")\n",
        "    if label:\n",
        "        plt.legend(fontsize=14)\n",
        "    plt.grid(True)\n",
        "    \n",
        "def trend(time, slope=0):\n",
        "    return slope * time\n",
        "  \n",
        "  \n",
        "def seasonal_pattern(season_time):\n",
        "    \"\"\"Just an arbitrary pattern, you can change it if you wish\"\"\"\n",
        "    return np.where(season_time < 0.4,\n",
        "                    np.cos(season_time * 2 * np.pi),\n",
        "                    1 / np.exp(3 * season_time))\n",
        "\n",
        "  \n",
        "def seasonality(time, period, amplitude=1, phase=0):\n",
        "    \"\"\"Repeats the same pattern at each period\"\"\"\n",
        "    season_time = ((time + phase) % period) / period\n",
        "    return amplitude * seasonal_pattern(season_time)\n",
        "  \n",
        "  \n",
        "def white_noise(time, noise_level=1, seed=None):\n",
        "    rnd = np.random.RandomState(seed)\n",
        "    return rnd.randn(len(time)) * noise_level\n",
        "  \n",
        "  \n",
        "def window_dataset(series, window_size, batch_size=32,\n",
        "                   shuffle_buffer=1000):\n",
        "    dataset = tf.data.Dataset.from_tensor_slices(series)\n",
        "    dataset = dataset.window(window_size + 1, shift=1, drop_remainder=True)\n",
        "    dataset = dataset.flat_map(lambda window: window.batch(window_size + 1))\n",
        "    dataset = dataset.shuffle(shuffle_buffer)\n",
        "    dataset = dataset.map(lambda window: (window[:-1], window[-1]))\n",
        "    dataset = dataset.batch(batch_size).prefetch(1)\n",
        "    return dataset\n",
        "  \n",
        "def model_forecast(model, series, window_size):\n",
        "    ds = tf.data.Dataset.from_tensor_slices(series)\n",
        "    ds = ds.window(window_size, shift=1, drop_remainder=True)\n",
        "    ds = ds.flat_map(lambda w: w.batch(window_size))\n",
        "    ds = ds.batch(32).prefetch(1)\n",
        "    forecast = model.predict(ds)\n",
        "    return forecast"
      ]
    },
    {
      "cell_type": "code",
      "execution_count": 4,
      "metadata": {
        "id": "iL2DDjV3lel6",
        "outputId": "54c8a47b-db70-4233-8448-80ef23557eec",
        "colab": {
          "base_uri": "https://localhost:8080/",
          "height": 542
        }
      },
      "outputs": [
        {
          "output_type": "display_data",
          "data": {
            "text/plain": [
              "<Figure size 1000x600 with 1 Axes>"
            ],
            "image/png": "[encoded data removed]"
          },
          "metadata": {}
        }
      ],
      "source": [
        "time = np.arange(4 * 365 + 1)\n",
        "\n",
        "slope = 0.05\n",
        "baseline = 10\n",
        "amplitude = 40\n",
        "series = baseline + trend(time, slope) + seasonality(time, period=365, amplitude=amplitude)\n",
        "\n",
        "noise_level = 5\n",
        "noise = white_noise(time, noise_level, seed=42)\n",
        "\n",
        "series += noise\n",
        "\n",
        "plt.figure(figsize=(10, 6))\n",
        "plot_series(time, series)\n",
        "plt.show()"
      ]
    },
    {
      "cell_type": "code",
      "execution_count": 5,
      "metadata": {
        "id": "Zmp1JXKxk9Vb"
      },
      "outputs": [],
      "source": [
        "split_time = 1000\n",
        "time_train = time[:split_time]\n",
        "x_train = series[:split_time]\n",
        "time_valid = time[split_time:]\n",
        "x_valid = series[split_time:]"
      ]
    },
    {
      "cell_type": "markdown",
      "metadata": {
        "id": "vDs_w3kZ8OIw"
      },
      "source": [
        "## Simple RNN Forecasting"
      ]
    },
    {
      "cell_type": "code",
      "execution_count": 6,
      "metadata": {
        "id": "YU4xRp9G8OIx",
        "outputId": "f1439792-9ffb-4bbd-ad28-9a816e448197",
        "colab": {
          "base_uri": "https://localhost:8080/"
        }
      },
      "outputs": [
        {
          "output_type": "stream",
          "name": "stderr",
          "text": [
            "WARNING:absl:`lr` is deprecated in Keras optimizer, please use `learning_rate` or use the legacy optimizer, e.g.,tf.keras.optimizers.legacy.SGD.\n"
          ]
        },
        {
          "output_type": "stream",
          "name": "stdout",
          "text": [
            "Epoch 1/100\n",
            "8/8 [==============================] - 2s 75ms/step - loss: 216.1872 - mae: 216.6872 - lr: 1.0000e-07\n",
            "Epoch 2/100\n",
            "8/8 [==============================] - 0s 35ms/step - loss: 154.2615 - mae: 154.7615 - lr: 1.1220e-07\n",
            "Epoch 3/100\n",
            "8/8 [==============================] - 0s 35ms/step - loss: 67.8679 - mae: 68.3679 - lr: 1.2589e-07\n",
            "Epoch 4/100\n",
            "8/8 [==============================] - 0s 34ms/step - loss: 26.3000 - mae: 26.7971 - lr: 1.4125e-07\n",
            "Epoch 5/100\n",
            "8/8 [==============================] - 0s 34ms/step - loss: 24.9692 - mae: 25.4665 - lr: 1.5849e-07\n",
            "Epoch 6/100\n",
            "8/8 [==============================] - 0s 36ms/step - loss: 18.8266 - mae: 19.3210 - lr: 1.7783e-07\n",
            "Epoch 7/100\n",
            "8/8 [==============================] - 0s 35ms/step - loss: 15.0550 - mae: 15.5443 - lr: 1.9953e-07\n",
            "Epoch 8/100\n",
            "8/8 [==============================] - 0s 35ms/step - loss: 13.5410 - mae: 14.0258 - lr: 2.2387e-07\n",
            "Epoch 9/100\n",
            "8/8 [==============================] - 0s 35ms/step - loss: 13.0508 - mae: 13.5376 - lr: 2.5119e-07\n",
            "Epoch 10/100\n",
            "8/8 [==============================] - 0s 43ms/step - loss: 12.7711 - mae: 13.2588 - lr: 2.8184e-07\n",
            "Epoch 11/100\n",
            "8/8 [==============================] - 1s 59ms/step - loss: 12.4699 - mae: 12.9537 - lr: 3.1623e-07\n",
            "Epoch 12/100\n",
            "8/8 [==============================] - 1s 60ms/step - loss: 12.2351 - mae: 12.7169 - lr: 3.5481e-07\n",
            "Epoch 13/100\n",
            "8/8 [==============================] - 0s 35ms/step - loss: 12.0030 - mae: 12.4867 - lr: 3.9811e-07\n",
            "Epoch 14/100\n",
            "8/8 [==============================] - 0s 34ms/step - loss: 11.7706 - mae: 12.2560 - lr: 4.4668e-07\n",
            "Epoch 15/100\n",
            "8/8 [==============================] - 0s 34ms/step - loss: 11.4497 - mae: 11.9320 - lr: 5.0119e-07\n",
            "Epoch 16/100\n",
            "8/8 [==============================] - 0s 37ms/step - loss: 11.2948 - mae: 11.7789 - lr: 5.6234e-07\n",
            "Epoch 17/100\n",
            "8/8 [==============================] - 0s 36ms/step - loss: 11.2071 - mae: 11.6913 - lr: 6.3096e-07\n",
            "Epoch 18/100\n",
            "8/8 [==============================] - 0s 35ms/step - loss: 10.8071 - mae: 11.2903 - lr: 7.0795e-07\n",
            "Epoch 19/100\n",
            "8/8 [==============================] - 0s 35ms/step - loss: 10.5420 - mae: 11.0242 - lr: 7.9433e-07\n",
            "Epoch 20/100\n",
            "8/8 [==============================] - 0s 35ms/step - loss: 10.3141 - mae: 10.7975 - lr: 8.9125e-07\n",
            "Epoch 21/100\n",
            "8/8 [==============================] - 0s 35ms/step - loss: 10.0729 - mae: 10.5561 - lr: 1.0000e-06\n",
            "Epoch 22/100\n",
            "8/8 [==============================] - 0s 35ms/step - loss: 10.0155 - mae: 10.4953 - lr: 1.1220e-06\n",
            "Epoch 23/100\n",
            "8/8 [==============================] - 0s 35ms/step - loss: 9.7344 - mae: 10.2145 - lr: 1.2589e-06\n",
            "Epoch 24/100\n",
            "8/8 [==============================] - 0s 36ms/step - loss: 9.3329 - mae: 9.8158 - lr: 1.4125e-06\n",
            "Epoch 25/100\n",
            "8/8 [==============================] - 0s 36ms/step - loss: 9.3002 - mae: 9.7804 - lr: 1.5849e-06\n",
            "Epoch 26/100\n",
            "8/8 [==============================] - 0s 37ms/step - loss: 9.1399 - mae: 9.6207 - lr: 1.7783e-06\n",
            "Epoch 27/100\n",
            "8/8 [==============================] - 0s 35ms/step - loss: 8.6757 - mae: 9.1601 - lr: 1.9953e-06\n",
            "Epoch 28/100\n",
            "8/8 [==============================] - 0s 35ms/step - loss: 8.8674 - mae: 9.3504 - lr: 2.2387e-06\n",
            "Epoch 29/100\n",
            "8/8 [==============================] - 0s 35ms/step - loss: 8.0430 - mae: 8.5253 - lr: 2.5119e-06\n",
            "Epoch 30/100\n",
            "8/8 [==============================] - 0s 35ms/step - loss: 8.2390 - mae: 8.7199 - lr: 2.8184e-06\n",
            "Epoch 31/100\n",
            "8/8 [==============================] - 0s 38ms/step - loss: 8.8375 - mae: 9.3197 - lr: 3.1623e-06\n",
            "Epoch 32/100\n",
            "8/8 [==============================] - 1s 63ms/step - loss: 8.9920 - mae: 9.4754 - lr: 3.5481e-06\n",
            "Epoch 33/100\n",
            "8/8 [==============================] - 1s 62ms/step - loss: 9.3639 - mae: 9.8504 - lr: 3.9811e-06\n",
            "Epoch 34/100\n",
            "8/8 [==============================] - 1s 61ms/step - loss: 9.0846 - mae: 9.5684 - lr: 4.4668e-06\n",
            "Epoch 35/100\n",
            "8/8 [==============================] - 1s 39ms/step - loss: 10.0845 - mae: 10.5731 - lr: 5.0119e-06\n",
            "Epoch 36/100\n",
            "8/8 [==============================] - 0s 37ms/step - loss: 12.1800 - mae: 12.6730 - lr: 5.6234e-06\n",
            "Epoch 37/100\n",
            "8/8 [==============================] - 0s 36ms/step - loss: 24.1814 - mae: 24.6732 - lr: 6.3096e-06\n",
            "Epoch 38/100\n",
            "8/8 [==============================] - 0s 36ms/step - loss: 24.5588 - mae: 25.0575 - lr: 7.0795e-06\n",
            "Epoch 39/100\n",
            "8/8 [==============================] - 0s 34ms/step - loss: 21.1658 - mae: 21.6636 - lr: 7.9433e-06\n",
            "Epoch 40/100\n",
            "8/8 [==============================] - 0s 36ms/step - loss: 22.7318 - mae: 23.2302 - lr: 8.9125e-06\n",
            "Epoch 41/100\n",
            "8/8 [==============================] - 0s 36ms/step - loss: 24.2245 - mae: 24.7230 - lr: 1.0000e-05\n",
            "Epoch 42/100\n",
            "8/8 [==============================] - 0s 39ms/step - loss: 25.8305 - mae: 26.3297 - lr: 1.1220e-05\n",
            "Epoch 43/100\n",
            "8/8 [==============================] - 0s 34ms/step - loss: 26.3460 - mae: 26.8428 - lr: 1.2589e-05\n",
            "Epoch 44/100\n",
            "8/8 [==============================] - 0s 34ms/step - loss: 26.9302 - mae: 27.4284 - lr: 1.4125e-05\n",
            "Epoch 45/100\n",
            "8/8 [==============================] - 0s 34ms/step - loss: 31.1619 - mae: 31.6613 - lr: 1.5849e-05\n",
            "Epoch 46/100\n",
            "8/8 [==============================] - 0s 36ms/step - loss: 32.8047 - mae: 33.3041 - lr: 1.7783e-05\n",
            "Epoch 47/100\n",
            "8/8 [==============================] - 0s 36ms/step - loss: 34.6896 - mae: 35.1895 - lr: 1.9953e-05\n",
            "Epoch 48/100\n",
            "8/8 [==============================] - 0s 35ms/step - loss: 37.6710 - mae: 38.1704 - lr: 2.2387e-05\n",
            "Epoch 49/100\n",
            "8/8 [==============================] - 0s 36ms/step - loss: 39.0879 - mae: 39.5874 - lr: 2.5119e-05\n",
            "Epoch 50/100\n",
            "8/8 [==============================] - 0s 34ms/step - loss: 40.5889 - mae: 41.0859 - lr: 2.8184e-05\n",
            "Epoch 51/100\n",
            "8/8 [==============================] - 0s 35ms/step - loss: 41.7775 - mae: 42.2755 - lr: 3.1623e-05\n",
            "Epoch 52/100\n",
            "8/8 [==============================] - 0s 35ms/step - loss: 44.2342 - mae: 44.7325 - lr: 3.5481e-05\n",
            "Epoch 53/100\n",
            "8/8 [==============================] - 1s 63ms/step - loss: 53.4565 - mae: 53.9549 - lr: 3.9811e-05\n",
            "Epoch 54/100\n",
            "8/8 [==============================] - 1s 61ms/step - loss: 66.8097 - mae: 67.3094 - lr: 4.4668e-05\n",
            "Epoch 55/100\n",
            "8/8 [==============================] - 1s 36ms/step - loss: 74.7506 - mae: 75.2500 - lr: 5.0119e-05\n",
            "Epoch 56/100\n",
            "8/8 [==============================] - 0s 36ms/step - loss: 95.9263 - mae: 96.4259 - lr: 5.6234e-05\n",
            "Epoch 57/100\n",
            "8/8 [==============================] - 0s 34ms/step - loss: 74.1533 - mae: 74.6533 - lr: 6.3096e-05\n",
            "Epoch 58/100\n",
            "8/8 [==============================] - 0s 33ms/step - loss: 71.8298 - mae: 72.3298 - lr: 7.0795e-05\n",
            "Epoch 59/100\n",
            "8/8 [==============================] - 0s 35ms/step - loss: 78.9241 - mae: 79.4237 - lr: 7.9433e-05\n",
            "Epoch 60/100\n",
            "8/8 [==============================] - 0s 37ms/step - loss: 78.6804 - mae: 79.1804 - lr: 8.9125e-05\n",
            "Epoch 61/100\n",
            "8/8 [==============================] - 0s 35ms/step - loss: 89.8228 - mae: 90.3228 - lr: 1.0000e-04\n",
            "Epoch 62/100\n",
            "8/8 [==============================] - 0s 36ms/step - loss: 94.6464 - mae: 95.1456 - lr: 1.1220e-04\n",
            "Epoch 63/100\n",
            "8/8 [==============================] - 0s 34ms/step - loss: 74.9955 - mae: 75.4940 - lr: 1.2589e-04\n",
            "Epoch 64/100\n",
            "8/8 [==============================] - 0s 35ms/step - loss: 124.3311 - mae: 124.8300 - lr: 1.4125e-04\n",
            "Epoch 65/100\n",
            "8/8 [==============================] - 0s 36ms/step - loss: 62.4412 - mae: 62.9385 - lr: 1.5849e-04\n",
            "Epoch 66/100\n",
            "8/8 [==============================] - 0s 37ms/step - loss: 65.8643 - mae: 66.3643 - lr: 1.7783e-04\n",
            "Epoch 67/100\n",
            "8/8 [==============================] - 0s 36ms/step - loss: 58.3994 - mae: 58.8986 - lr: 1.9953e-04\n",
            "Epoch 68/100\n",
            "8/8 [==============================] - 0s 35ms/step - loss: 74.6446 - mae: 75.1427 - lr: 2.2387e-04\n",
            "Epoch 69/100\n",
            "8/8 [==============================] - 0s 36ms/step - loss: 131.4935 - mae: 131.9919 - lr: 2.5119e-04\n",
            "Epoch 70/100\n",
            "8/8 [==============================] - 0s 34ms/step - loss: 416.2087 - mae: 416.7087 - lr: 2.8184e-04\n",
            "Epoch 71/100\n",
            "8/8 [==============================] - 0s 37ms/step - loss: 622.8991 - mae: 623.3991 - lr: 3.1623e-04\n",
            "Epoch 72/100\n",
            "8/8 [==============================] - 0s 35ms/step - loss: 695.4839 - mae: 695.9839 - lr: 3.5481e-04\n",
            "Epoch 73/100\n",
            "8/8 [==============================] - 0s 45ms/step - loss: 607.4506 - mae: 607.9500 - lr: 3.9811e-04\n",
            "Epoch 74/100\n",
            "8/8 [==============================] - 1s 67ms/step - loss: 817.0751 - mae: 817.5751 - lr: 4.4668e-04\n",
            "Epoch 75/100\n",
            "8/8 [==============================] - 1s 59ms/step - loss: 958.4469 - mae: 958.9469 - lr: 5.0119e-04\n",
            "Epoch 76/100\n",
            "8/8 [==============================] - 0s 40ms/step - loss: 1232.5710 - mae: 1233.0710 - lr: 5.6234e-04\n",
            "Epoch 77/100\n",
            "8/8 [==============================] - 0s 36ms/step - loss: 2087.8499 - mae: 2088.3499 - lr: 6.3096e-04\n",
            "Epoch 78/100\n",
            "8/8 [==============================] - 0s 37ms/step - loss: 2677.5059 - mae: 2678.0059 - lr: 7.0795e-04\n",
            "Epoch 79/100\n",
            "8/8 [==============================] - 0s 34ms/step - loss: 2896.4270 - mae: 2896.9270 - lr: 7.9433e-04\n",
            "Epoch 80/100\n",
            "8/8 [==============================] - 0s 37ms/step - loss: 3228.2766 - mae: 3228.7766 - lr: 8.9125e-04\n",
            "Epoch 81/100\n",
            "8/8 [==============================] - 0s 35ms/step - loss: 2825.6289 - mae: 2826.1289 - lr: 0.0010\n",
            "Epoch 82/100\n",
            "8/8 [==============================] - 0s 34ms/step - loss: 3522.5864 - mae: 3523.0864 - lr: 0.0011\n",
            "Epoch 83/100\n",
            "8/8 [==============================] - 0s 36ms/step - loss: 1350.7073 - mae: 1351.2073 - lr: 0.0013\n",
            "Epoch 84/100\n",
            "8/8 [==============================] - 0s 35ms/step - loss: 5744.4824 - mae: 5744.9824 - lr: 0.0014\n",
            "Epoch 85/100\n",
            "8/8 [==============================] - 1s 87ms/step - loss: 9618.9932 - mae: 9619.4932 - lr: 0.0016\n",
            "Epoch 86/100\n",
            "8/8 [==============================] - 1s 52ms/step - loss: 3415.4858 - mae: 3415.9858 - lr: 0.0018\n",
            "Epoch 87/100\n",
            "8/8 [==============================] - 1s 56ms/step - loss: 4520.0000 - mae: 4520.5000 - lr: 0.0020\n",
            "Epoch 88/100\n",
            "8/8 [==============================] - 0s 35ms/step - loss: 3671.8132 - mae: 3672.3132 - lr: 0.0022\n",
            "Epoch 89/100\n",
            "8/8 [==============================] - 0s 39ms/step - loss: 5644.7476 - mae: 5645.2476 - lr: 0.0025\n",
            "Epoch 90/100\n",
            "8/8 [==============================] - 0s 35ms/step - loss: 6660.7158 - mae: 6661.2158 - lr: 0.0028\n",
            "Epoch 91/100\n",
            "8/8 [==============================] - 1s 61ms/step - loss: 5190.9790 - mae: 5191.4790 - lr: 0.0032\n",
            "Epoch 92/100\n",
            "8/8 [==============================] - 1s 59ms/step - loss: 14571.8672 - mae: 14572.3672 - lr: 0.0035\n",
            "Epoch 93/100\n",
            "8/8 [==============================] - 0s 36ms/step - loss: 24556.5469 - mae: 24557.0469 - lr: 0.0040\n",
            "Epoch 94/100\n",
            "8/8 [==============================] - 0s 35ms/step - loss: 8740.4756 - mae: 8740.9756 - lr: 0.0045\n",
            "Epoch 95/100\n",
            "8/8 [==============================] - 0s 35ms/step - loss: 11081.0791 - mae: 11081.5791 - lr: 0.0050\n",
            "Epoch 96/100\n",
            "8/8 [==============================] - 0s 35ms/step - loss: 9067.3633 - mae: 9067.8633 - lr: 0.0056\n",
            "Epoch 97/100\n",
            "8/8 [==============================] - 0s 36ms/step - loss: 13997.4238 - mae: 13997.9238 - lr: 0.0063\n",
            "Epoch 98/100\n",
            "8/8 [==============================] - 0s 36ms/step - loss: 16959.8828 - mae: 16960.3809 - lr: 0.0071\n",
            "Epoch 99/100\n",
            "8/8 [==============================] - 0s 36ms/step - loss: 17461.2441 - mae: 17461.7441 - lr: 0.0079\n",
            "Epoch 100/100\n",
            "8/8 [==============================] - 0s 37ms/step - loss: 69878.6562 - mae: 69879.1562 - lr: 0.0089\n"
          ]
        }
      ],
      "source": [
        "keras.backend.clear_session()\n",
        "tf.random.set_seed(42)\n",
        "np.random.seed(42)\n",
        "\n",
        "window_size = 30\n",
        "train_set = window_dataset(x_train, window_size, batch_size=128)\n",
        "\n",
        "model = keras.models.Sequential([\n",
        "  keras.layers.Lambda(lambda x: tf.expand_dims(x, axis=-1),\n",
        "                      input_shape=[None]),\n",
        "  keras.layers.SimpleRNN(100, return_sequences=True),\n",
        "  keras.layers.SimpleRNN(100),\n",
        "  keras.layers.Dense(1),\n",
        "  keras.layers.Lambda(lambda x: x * 200.0)\n",
        "])\n",
        "lr_schedule = keras.callbacks.LearningRateScheduler(\n",
        "    lambda epoch: 1e-7 * 10**(epoch / 20))\n",
        "optimizer = keras.optimizers.SGD(lr=1e-7, momentum=0.9)\n",
        "model.compile(loss=keras.losses.Huber(),\n",
        "              optimizer=optimizer,\n",
        "              metrics=[\"mae\"])\n",
        "history = model.fit(train_set, epochs=100, callbacks=[lr_schedule])"
      ]
    },
    {
      "cell_type": "code",
      "execution_count": 7,
      "metadata": {
        "id": "YJTlFAXF8OIy",
        "outputId": "234f3746-8e4d-4408-c2c9-a214d30e1257",
        "colab": {
          "base_uri": "https://localhost:8080/",
          "height": 457
        }
      },
      "outputs": [
        {
          "output_type": "execute_result",
          "data": {
            "text/plain": [
              "(1e-07, 0.0001, 0.0, 30.0)"
            ]
          },
          "metadata": {},
          "execution_count": 7
        },
        {
          "output_type": "display_data",
          "data": {
            "text/plain": [
              "<Figure size 640x480 with 1 Axes>"
            ],
            "image/png": "[encoded data removed]"
          },
          "metadata": {}
        }
      ],
      "source": [
        "plt.semilogx(history.history[\"lr\"], history.history[\"loss\"])\n",
        "plt.axis([1e-7, 1e-4, 0, 30])"
      ]
    },
    {
      "cell_type": "code",
      "execution_count": 8,
      "metadata": {
        "id": "T3yNjxWE8OIz",
        "outputId": "6df5fb1a-e905-4b91-8638-c0cb11b50f45",
        "colab": {
          "base_uri": "https://localhost:8080/"
        }
      },
      "outputs": [
        {
          "output_type": "stream",
          "name": "stderr",
          "text": [
            "WARNING:absl:`lr` is deprecated in Keras optimizer, please use `learning_rate` or use the legacy optimizer, e.g.,tf.keras.optimizers.legacy.SGD.\n"
          ]
        },
        {
          "output_type": "stream",
          "name": "stdout",
          "text": [
            "Epoch 1/500\n",
            "      7/Unknown - 3s 35ms/step - loss: 13951.7812 - mae: 13952.2812"
          ]
        },
        {
          "output_type": "stream",
          "name": "stderr",
          "text": [
            "WARNING:absl:Found untraced functions such as _update_step_xla while saving (showing 1 of 1). These functions will not be directly callable after loading.\n"
          ]
        },
        {
          "output_type": "stream",
          "name": "stdout",
          "text": [
            "\b\b\b\b\b\b\b\b\b\b\b\b\b\b\b\b\b\b\b\b\b\b\b\b\b\b\b\b\b\b\b\b\b\b\b\b\b\b\b\b\b\b\b\b\b\b\b\b\b\b\b\b\b\b\b\b\b\b\b\b\b\b\b\b\b\b\b\r8/8 [==============================] - 7s 601ms/step - loss: 13557.9053 - mae: 13558.4053 - val_loss: 42251.9844 - val_mae: 42252.4844\n",
            "Epoch 2/500\n",
            "8/8 [==============================] - 1s 59ms/step - loss: 46404.3281 - mae: 46404.8281 - val_loss: 130002.7734 - val_mae: 130003.2734\n",
            "Epoch 3/500\n",
            "8/8 [==============================] - 1s 60ms/step - loss: 108069.1250 - mae: 108069.6172 - val_loss: 56041.6797 - val_mae: 56042.1797\n",
            "Epoch 4/500\n",
            "8/8 [==============================] - 1s 61ms/step - loss: 51399.3203 - mae: 51399.8203 - val_loss: 43224.9648 - val_mae: 43225.4648\n",
            "Epoch 5/500\n",
            "7/8 [=========================>....] - ETA: 0s - loss: 40310.5117 - mae: 40311.0117"
          ]
        },
        {
          "output_type": "stream",
          "name": "stderr",
          "text": [
            "WARNING:absl:Found untraced functions such as _update_step_xla while saving (showing 1 of 1). These functions will not be directly callable after loading.\n"
          ]
        },
        {
          "output_type": "stream",
          "name": "stdout",
          "text": [
            "\b\b\b\b\b\b\b\b\b\b\b\b\b\b\b\b\b\b\b\b\b\b\b\b\b\b\b\b\b\b\b\b\b\b\b\b\b\b\b\b\b\b\b\b\b\b\b\b\b\b\b\b\b\b\b\b\b\b\b\b\b\b\b\b\b\b\b\b\b\b\b\b\b\b\b\b\b\b\b\b\b\b\b\r8/8 [==============================] - 4s 560ms/step - loss: 39433.5117 - mae: 39434.0156 - val_loss: 147.8005 - val_mae: 148.3005\n",
            "Epoch 6/500\n",
            "8/8 [==============================] - 1s 95ms/step - loss: 67150.7969 - mae: 67151.2969 - val_loss: 92796.8828 - val_mae: 92797.3828\n",
            "Epoch 7/500\n",
            "8/8 [==============================] - 1s 53ms/step - loss: 87447.0781 - mae: 87447.5781 - val_loss: 99731.1484 - val_mae: 99731.6484\n",
            "Epoch 8/500\n",
            "8/8 [==============================] - 1s 54ms/step - loss: 51148.6836 - mae: 51149.1875 - val_loss: 31289.4727 - val_mae: 31289.9727\n",
            "Epoch 9/500\n",
            "8/8 [==============================] - 1s 61ms/step - loss: 35751.0586 - mae: 35751.5586 - val_loss: 51640.5352 - val_mae: 51641.0312\n",
            "Epoch 10/500\n",
            "8/8 [==============================] - 1s 57ms/step - loss: 34179.3984 - mae: 34179.8984 - val_loss: 21291.5703 - val_mae: 21292.0723\n",
            "Epoch 11/500\n",
            "8/8 [==============================] - 1s 60ms/step - loss: 39367.9023 - mae: 39368.3984 - val_loss: 6435.4688 - val_mae: 6435.9688\n",
            "Epoch 12/500\n",
            "8/8 [==============================] - 1s 58ms/step - loss: 25229.0977 - mae: 25229.5957 - val_loss: 79507.9922 - val_mae: 79508.4922\n",
            "Epoch 13/500\n",
            "8/8 [==============================] - 1s 58ms/step - loss: 71344.0469 - mae: 71344.5547 - val_loss: 42013.7773 - val_mae: 42014.2773\n",
            "Epoch 14/500\n",
            "8/8 [==============================] - 1s 58ms/step - loss: 25051.4004 - mae: 25051.9004 - val_loss: 7230.7402 - val_mae: 7231.2402\n",
            "Epoch 15/500\n",
            "8/8 [==============================] - 1s 55ms/step - loss: 19264.1543 - mae: 19264.6562 - val_loss: 20105.2852 - val_mae: 20105.7871\n",
            "Epoch 16/500\n",
            "8/8 [==============================] - 1s 55ms/step - loss: 19214.1055 - mae: 19214.6055 - val_loss: 38934.8203 - val_mae: 38935.3242\n",
            "Epoch 17/500\n",
            "8/8 [==============================] - 1s 58ms/step - loss: 21587.0566 - mae: 21587.5547 - val_loss: 39356.0234 - val_mae: 39356.5195\n",
            "Epoch 18/500\n",
            "8/8 [==============================] - 1s 58ms/step - loss: 27182.6348 - mae: 27183.1367 - val_loss: 98268.5312 - val_mae: 98269.0312\n",
            "Epoch 19/500\n",
            "8/8 [==============================] - 1s 55ms/step - loss: 70633.6719 - mae: 70634.1719 - val_loss: 53310.9727 - val_mae: 53311.4766\n",
            "Epoch 20/500\n",
            "8/8 [==============================] - 1s 56ms/step - loss: 28642.9004 - mae: 28643.4023 - val_loss: 20361.5840 - val_mae: 20362.0840\n",
            "Epoch 21/500\n",
            "8/8 [==============================] - 1s 58ms/step - loss: 30224.0605 - mae: 30224.5605 - val_loss: 24133.7734 - val_mae: 24134.2715\n",
            "Epoch 22/500\n",
            "8/8 [==============================] - 1s 58ms/step - loss: 39080.1875 - mae: 39080.6836 - val_loss: 11090.8584 - val_mae: 11091.3584\n",
            "Epoch 23/500\n",
            "8/8 [==============================] - 1s 92ms/step - loss: 11940.4941 - mae: 11940.9941 - val_loss: 54129.3477 - val_mae: 54129.8438\n",
            "Epoch 24/500\n",
            "8/8 [==============================] - 1s 114ms/step - loss: 41943.0898 - mae: 41943.5859 - val_loss: 17958.6465 - val_mae: 17959.1465\n",
            "Epoch 25/500\n",
            "8/8 [==============================] - 1s 56ms/step - loss: 34506.5977 - mae: 34507.0977 - val_loss: 74722.3750 - val_mae: 74722.8750\n",
            "Epoch 26/500\n",
            "8/8 [==============================] - 1s 58ms/step - loss: 42722.9492 - mae: 42723.4531 - val_loss: 15055.4375 - val_mae: 15055.9375\n",
            "Epoch 27/500\n",
            "8/8 [==============================] - 1s 57ms/step - loss: 34002.8438 - mae: 34003.3438 - val_loss: 12315.0244 - val_mae: 12315.5244\n",
            "Epoch 28/500\n",
            "8/8 [==============================] - 1s 55ms/step - loss: 35245.8555 - mae: 35246.3555 - val_loss: 63315.3906 - val_mae: 63315.8945\n",
            "Epoch 29/500\n",
            "8/8 [==============================] - 1s 54ms/step - loss: 39875.9961 - mae: 39876.4961 - val_loss: 35686.7930 - val_mae: 35687.2891\n",
            "Epoch 30/500\n",
            "8/8 [==============================] - 1s 60ms/step - loss: 38663.8320 - mae: 38664.3359 - val_loss: 31688.7324 - val_mae: 31689.2344\n",
            "Epoch 31/500\n",
            "8/8 [==============================] - 1s 54ms/step - loss: 35750.8789 - mae: 35751.3828 - val_loss: 52190.9102 - val_mae: 52191.4102\n",
            "Epoch 32/500\n",
            "8/8 [==============================] - 1s 55ms/step - loss: 39813.0195 - mae: 39813.5156 - val_loss: 26602.4199 - val_mae: 26602.9180\n",
            "Epoch 33/500\n",
            "8/8 [==============================] - 1s 58ms/step - loss: 36882.1328 - mae: 36882.6328 - val_loss: 15559.2109 - val_mae: 15559.7109\n",
            "Epoch 34/500\n",
            "8/8 [==============================] - 1s 56ms/step - loss: 35325.5625 - mae: 35326.0664 - val_loss: 60534.1914 - val_mae: 60534.6914\n",
            "Epoch 35/500\n",
            "8/8 [==============================] - 1s 57ms/step - loss: 39434.5586 - mae: 39435.0547 - val_loss: 35913.8281 - val_mae: 35914.3281\n",
            "Epoch 36/500\n",
            "8/8 [==============================] - 1s 55ms/step - loss: 38408.3477 - mae: 38408.8438 - val_loss: 33268.8047 - val_mae: 33269.3047\n",
            "Epoch 37/500\n",
            "8/8 [==============================] - 1s 56ms/step - loss: 36770.4258 - mae: 36770.9219 - val_loss: 43761.3594 - val_mae: 43761.8594\n",
            "Epoch 38/500\n",
            "8/8 [==============================] - 1s 58ms/step - loss: 36684.9375 - mae: 36685.4336 - val_loss: 48147.6055 - val_mae: 48148.1016\n",
            "Epoch 39/500\n",
            "8/8 [==============================] - 1s 58ms/step - loss: 41446.7656 - mae: 41447.2656 - val_loss: 42564.1641 - val_mae: 42564.6641\n",
            "Epoch 40/500\n",
            "8/8 [==============================] - 1s 58ms/step - loss: 36627.4375 - mae: 36627.9375 - val_loss: 38248.8789 - val_mae: 38249.3789\n",
            "Epoch 41/500\n",
            "8/8 [==============================] - 1s 89ms/step - loss: 36461.2930 - mae: 36461.7930 - val_loss: 45045.2891 - val_mae: 45045.7852\n",
            "Epoch 42/500\n",
            "8/8 [==============================] - 1s 90ms/step - loss: 40226.6641 - mae: 40227.1641 - val_loss: 25504.1836 - val_mae: 25504.6816\n",
            "Epoch 43/500\n",
            "8/8 [==============================] - 1s 56ms/step - loss: 36324.2266 - mae: 36324.7266 - val_loss: 51537.8086 - val_mae: 51538.3125\n",
            "Epoch 44/500\n",
            "8/8 [==============================] - 1s 54ms/step - loss: 38996.2734 - mae: 38996.7695 - val_loss: 34043.9336 - val_mae: 34044.4297\n",
            "Epoch 45/500\n",
            "8/8 [==============================] - 1s 54ms/step - loss: 38189.5312 - mae: 38190.0312 - val_loss: 27619.7129 - val_mae: 27620.2129\n",
            "Epoch 46/500\n",
            "8/8 [==============================] - 1s 58ms/step - loss: 37209.1172 - mae: 37209.6172 - val_loss: 39810.7617 - val_mae: 39811.2617\n",
            "Epoch 47/500\n",
            "8/8 [==============================] - 1s 60ms/step - loss: 36445.3828 - mae: 36445.8789 - val_loss: 49924.3945 - val_mae: 49924.8945\n",
            "Epoch 48/500\n",
            "8/8 [==============================] - 1s 54ms/step - loss: 41348.0078 - mae: 41348.5078 - val_loss: 35869.0195 - val_mae: 35869.5195\n",
            "Epoch 49/500\n",
            "8/8 [==============================] - 1s 55ms/step - loss: 36375.3086 - mae: 36375.8086 - val_loss: 47203.7695 - val_mae: 47204.2695\n",
            "Epoch 50/500\n",
            "8/8 [==============================] - 1s 59ms/step - loss: 37166.7500 - mae: 37167.2500 - val_loss: 46511.5391 - val_mae: 46512.0391\n",
            "Epoch 51/500\n",
            "8/8 [==============================] - 1s 54ms/step - loss: 40788.0938 - mae: 40788.5938 - val_loss: 44773.0938 - val_mae: 44773.5977\n",
            "Epoch 52/500\n",
            "8/8 [==============================] - 1s 57ms/step - loss: 36910.5742 - mae: 36911.0703 - val_loss: 37354.9102 - val_mae: 37355.4102\n",
            "Epoch 53/500\n",
            "8/8 [==============================] - 1s 58ms/step - loss: 36508.3633 - mae: 36508.8672 - val_loss: 45500.6914 - val_mae: 45501.1914\n",
            "Epoch 54/500\n",
            "8/8 [==============================] - 1s 59ms/step - loss: 40578.6914 - mae: 40579.1953 - val_loss: 40613.0469 - val_mae: 40613.5469\n",
            "Epoch 55/500\n",
            "8/8 [==============================] - 1s 58ms/step - loss: 37293.0469 - mae: 37293.5469 - val_loss: 35783.0430 - val_mae: 35783.5391\n"
          ]
        },
        {
          "output_type": "execute_result",
          "data": {
            "text/plain": [
              "<keras.callbacks.History at 0x7ff9376021f0>"
            ]
          },
          "metadata": {},
          "execution_count": 8
        }
      ],
      "source": [
        "keras.backend.clear_session()\n",
        "tf.random.set_seed(42)\n",
        "np.random.seed(42)\n",
        "\n",
        "window_size = 30\n",
        "train_set = window_dataset(x_train, window_size, batch_size=128)\n",
        "valid_set = window_dataset(x_valid, window_size, batch_size=128)\n",
        "\n",
        "model = keras.models.Sequential([\n",
        "  keras.layers.Lambda(lambda x: tf.expand_dims(x, axis=-1),\n",
        "                      input_shape=[None]),\n",
        "  keras.layers.SimpleRNN(100, return_sequences=True),\n",
        "  keras.layers.SimpleRNN(100),\n",
        "  keras.layers.Dense(1),\n",
        "  keras.layers.Lambda(lambda x: x * 200.0)\n",
        "])\n",
        "optimizer = keras.optimizers.SGD(lr=1.5e-6, momentum=0.9)\n",
        "model.compile(loss=keras.losses.Huber(),\n",
        "              optimizer=optimizer,\n",
        "              metrics=[\"mae\"])\n",
        "early_stopping = keras.callbacks.EarlyStopping(patience=50)\n",
        "model_checkpoint = keras.callbacks.ModelCheckpoint(\n",
        "    \"my_checkpoint\", save_best_only=True)\n",
        "model.fit(train_set, epochs=500,\n",
        "          validation_data=valid_set,\n",
        "          callbacks=[early_stopping, model_checkpoint])"
      ]
    },
    {
      "cell_type": "code",
      "execution_count": 9,
      "metadata": {
        "id": "4KuPtKFe8OI0"
      },
      "outputs": [],
      "source": [
        "model = keras.models.load_model(\"my_checkpoint\")"
      ]
    },
    {
      "cell_type": "code",
      "execution_count": 10,
      "metadata": {
        "id": "cxq09qOg8OI1",
        "outputId": "ef7a5ecb-dd79-426c-a5ad-58a0512404d3",
        "colab": {
          "base_uri": "https://localhost:8080/"
        }
      },
      "outputs": [
        {
          "output_type": "stream",
          "name": "stdout",
          "text": [
            "15/15 [==============================] - 0s 11ms/step\n"
          ]
        }
      ],
      "source": [
        "rnn_forecast = model_forecast(\n",
        "    model,\n",
        "    series[split_time - window_size:-1],\n",
        "    window_size)[:, 0]"
      ]
    },
    {
      "cell_type": "code",
      "execution_count": 11,
      "metadata": {
        "id": "PkC_JssS8OI2",
        "outputId": "79824ee3-cac6-4eef-ea63-26aeca072929",
        "colab": {
          "base_uri": "https://localhost:8080/",
          "height": 542
        }
      },
      "outputs": [
        {
          "output_type": "display_data",
          "data": {
            "text/plain": [
              "<Figure size 1000x600 with 1 Axes>"
            ],
            "image/png": "[encoded data removed]"
          },
          "metadata": {}
        }
      ],
      "source": [
        "plt.figure(figsize=(10, 6))\n",
        "plot_series(time_valid, x_valid)\n",
        "plot_series(time_valid, rnn_forecast)"
      ]
    },
    {
      "cell_type": "code",
      "execution_count": 12,
      "metadata": {
        "id": "1mwfgEK08OI3",
        "outputId": "5a2eb8d8-7668-451e-97d1-f37c380b6f32",
        "colab": {
          "base_uri": "https://localhost:8080/"
        }
      },
      "outputs": [
        {
          "output_type": "execute_result",
          "data": {
            "text/plain": [
              "147.48485"
            ]
          },
          "metadata": {},
          "execution_count": 12
        }
      ],
      "source": [
        "keras.metrics.mean_absolute_error(x_valid, rnn_forecast).numpy()"
      ]
    },
    {
      "cell_type": "markdown",
      "metadata": {
        "id": "KNG7s8jt8OI4"
      },
      "source": [
        "## Sequence-to-Sequence Forecasting"
      ]
    },
    {
      "cell_type": "code",
      "execution_count": 13,
      "metadata": {
        "id": "bsKGxfiE8OI4"
      },
      "outputs": [],
      "source": [
        "def seq2seq_window_dataset(series, window_size, batch_size=32,\n",
        "                           shuffle_buffer=1000):\n",
        "    series = tf.expand_dims(series, axis=-1)\n",
        "    ds = tf.data.Dataset.from_tensor_slices(series)\n",
        "    ds = ds.window(window_size + 1, shift=1, drop_remainder=True)\n",
        "    ds = ds.flat_map(lambda w: w.batch(window_size + 1))\n",
        "    ds = ds.shuffle(shuffle_buffer)\n",
        "    ds = ds.map(lambda w: (w[:-1], w[1:]))\n",
        "    return ds.batch(batch_size).prefetch(1)"
      ]
    },
    {
      "cell_type": "code",
      "execution_count": 14,
      "metadata": {
        "id": "5Nk2C7WP8OI5",
        "outputId": "aca68228-31ac-4f68-e2a2-d09f0f3ca746",
        "colab": {
          "base_uri": "https://localhost:8080/"
        }
      },
      "outputs": [
        {
          "output_type": "stream",
          "name": "stdout",
          "text": [
            "X: [[[4]\n",
            "  [5]\n",
            "  [6]]]\n",
            "Y: [[[5]\n",
            "  [6]\n",
            "  [7]]]\n",
            "X: [[[1]\n",
            "  [2]\n",
            "  [3]]]\n",
            "Y: [[[2]\n",
            "  [3]\n",
            "  [4]]]\n",
            "X: [[[0]\n",
            "  [1]\n",
            "  [2]]]\n",
            "Y: [[[1]\n",
            "  [2]\n",
            "  [3]]]\n",
            "X: [[[5]\n",
            "  [6]\n",
            "  [7]]]\n",
            "Y: [[[6]\n",
            "  [7]\n",
            "  [8]]]\n",
            "X: [[[2]\n",
            "  [3]\n",
            "  [4]]]\n",
            "Y: [[[3]\n",
            "  [4]\n",
            "  [5]]]\n",
            "X: [[[6]\n",
            "  [7]\n",
            "  [8]]]\n",
            "Y: [[[7]\n",
            "  [8]\n",
            "  [9]]]\n",
            "X: [[[3]\n",
            "  [4]\n",
            "  [5]]]\n",
            "Y: [[[4]\n",
            "  [5]\n",
            "  [6]]]\n"
          ]
        }
      ],
      "source": [
        "for X_batch, Y_batch in seq2seq_window_dataset(tf.range(10), 3,\n",
        "                                               batch_size=1):\n",
        "    print(\"X:\", X_batch.numpy())\n",
        "    print(\"Y:\", Y_batch.numpy())"
      ]
    },
    {
      "cell_type": "code",
      "execution_count": 15,
      "metadata": {
        "id": "4JSc-Btk8OI7",
        "outputId": "b85d03fa-4471-4b11-c37e-b0476e9aa795",
        "colab": {
          "base_uri": "https://localhost:8080/"
        }
      },
      "outputs": [
        {
          "output_type": "stream",
          "name": "stderr",
          "text": [
            "WARNING:absl:`lr` is deprecated in Keras optimizer, please use `learning_rate` or use the legacy optimizer, e.g.,tf.keras.optimizers.legacy.SGD.\n"
          ]
        },
        {
          "output_type": "stream",
          "name": "stdout",
          "text": [
            "Epoch 1/100\n",
            "8/8 [==============================] - 2s 41ms/step - loss: 420.3731 - mae: 420.8731 - lr: 1.0000e-07\n",
            "Epoch 2/100\n",
            "8/8 [==============================] - 0s 39ms/step - loss: 365.1454 - mae: 365.6453 - lr: 1.0798e-07\n",
            "Epoch 3/100\n",
            "8/8 [==============================] - 0s 38ms/step - loss: 283.6920 - mae: 284.1920 - lr: 1.1659e-07\n",
            "Epoch 4/100\n",
            "8/8 [==============================] - 0s 39ms/step - loss: 195.0766 - mae: 195.5766 - lr: 1.2589e-07\n",
            "Epoch 5/100\n",
            "8/8 [==============================] - 0s 37ms/step - loss: 97.4836 - mae: 97.9834 - lr: 1.3594e-07\n",
            "Epoch 6/100\n",
            "8/8 [==============================] - 0s 43ms/step - loss: 36.0855 - mae: 36.5814 - lr: 1.4678e-07\n",
            "Epoch 7/100\n",
            "8/8 [==============================] - 0s 39ms/step - loss: 42.4020 - mae: 42.8996 - lr: 1.5849e-07\n",
            "Epoch 8/100\n",
            "8/8 [==============================] - 0s 38ms/step - loss: 29.3161 - mae: 29.8098 - lr: 1.7113e-07\n",
            "Epoch 9/100\n",
            "8/8 [==============================] - 0s 37ms/step - loss: 27.8729 - mae: 28.3654 - lr: 1.8478e-07\n",
            "Epoch 10/100\n",
            "8/8 [==============================] - 0s 40ms/step - loss: 25.3615 - mae: 25.8516 - lr: 1.9953e-07\n",
            "Epoch 11/100\n",
            "8/8 [==============================] - 0s 37ms/step - loss: 23.6422 - mae: 24.1316 - lr: 2.1544e-07\n",
            "Epoch 12/100\n",
            "8/8 [==============================] - 0s 40ms/step - loss: 22.7556 - mae: 23.2440 - lr: 2.3263e-07\n",
            "Epoch 13/100\n",
            "8/8 [==============================] - 0s 39ms/step - loss: 22.2175 - mae: 22.7054 - lr: 2.5119e-07\n",
            "Epoch 14/100\n",
            "8/8 [==============================] - 0s 38ms/step - loss: 21.8223 - mae: 22.3105 - lr: 2.7123e-07\n",
            "Epoch 15/100\n",
            "8/8 [==============================] - 0s 39ms/step - loss: 21.4237 - mae: 21.9101 - lr: 2.9286e-07\n",
            "Epoch 16/100\n",
            "8/8 [==============================] - 0s 39ms/step - loss: 21.0295 - mae: 21.5168 - lr: 3.1623e-07\n",
            "Epoch 17/100\n",
            "8/8 [==============================] - 1s 66ms/step - loss: 20.6055 - mae: 21.0926 - lr: 3.4145e-07\n",
            "Epoch 18/100\n",
            "8/8 [==============================] - 1s 64ms/step - loss: 20.1885 - mae: 20.6757 - lr: 3.6869e-07\n",
            "Epoch 19/100\n",
            "8/8 [==============================] - 1s 66ms/step - loss: 19.7443 - mae: 20.2323 - lr: 3.9811e-07\n",
            "Epoch 20/100\n",
            "8/8 [==============================] - 1s 51ms/step - loss: 19.2617 - mae: 19.7486 - lr: 4.2987e-07\n",
            "Epoch 21/100\n",
            "8/8 [==============================] - 0s 38ms/step - loss: 18.7663 - mae: 19.2536 - lr: 4.6416e-07\n",
            "Epoch 22/100\n",
            "8/8 [==============================] - 0s 40ms/step - loss: 18.2396 - mae: 18.7270 - lr: 5.0119e-07\n",
            "Epoch 23/100\n",
            "8/8 [==============================] - 0s 37ms/step - loss: 17.7011 - mae: 18.1883 - lr: 5.4117e-07\n",
            "Epoch 24/100\n",
            "8/8 [==============================] - 0s 40ms/step - loss: 17.1198 - mae: 17.6068 - lr: 5.8434e-07\n",
            "Epoch 25/100\n",
            "8/8 [==============================] - 0s 37ms/step - loss: 16.4907 - mae: 16.9785 - lr: 6.3096e-07\n",
            "Epoch 26/100\n",
            "8/8 [==============================] - 0s 39ms/step - loss: 15.8437 - mae: 16.3309 - lr: 6.8129e-07\n",
            "Epoch 27/100\n",
            "8/8 [==============================] - 0s 39ms/step - loss: 15.1513 - mae: 15.6379 - lr: 7.3564e-07\n",
            "Epoch 28/100\n",
            "8/8 [==============================] - 0s 38ms/step - loss: 14.4452 - mae: 14.9316 - lr: 7.9433e-07\n",
            "Epoch 29/100\n",
            "8/8 [==============================] - 0s 44ms/step - loss: 13.7145 - mae: 14.1999 - lr: 8.5770e-07\n",
            "Epoch 30/100\n",
            "8/8 [==============================] - 0s 38ms/step - loss: 12.9906 - mae: 13.4749 - lr: 9.2612e-07\n",
            "Epoch 31/100\n",
            "8/8 [==============================] - 0s 37ms/step - loss: 12.2673 - mae: 12.7516 - lr: 1.0000e-06\n",
            "Epoch 32/100\n",
            "8/8 [==============================] - 0s 37ms/step - loss: 11.5914 - mae: 12.0757 - lr: 1.0798e-06\n",
            "Epoch 33/100\n",
            "8/8 [==============================] - 0s 39ms/step - loss: 10.9277 - mae: 11.4120 - lr: 1.1659e-06\n",
            "Epoch 34/100\n",
            "8/8 [==============================] - 0s 38ms/step - loss: 10.2093 - mae: 10.6929 - lr: 1.2589e-06\n",
            "Epoch 35/100\n",
            "8/8 [==============================] - 0s 37ms/step - loss: 9.5930 - mae: 10.0763 - lr: 1.3594e-06\n",
            "Epoch 36/100\n",
            "8/8 [==============================] - 0s 41ms/step - loss: 9.0040 - mae: 9.4870 - lr: 1.4678e-06\n",
            "Epoch 37/100\n",
            "8/8 [==============================] - 1s 63ms/step - loss: 8.4633 - mae: 8.9464 - lr: 1.5849e-06\n",
            "Epoch 38/100\n",
            "8/8 [==============================] - 1s 62ms/step - loss: 7.9280 - mae: 8.4104 - lr: 1.7113e-06\n",
            "Epoch 39/100\n",
            "8/8 [==============================] - 1s 66ms/step - loss: 7.5637 - mae: 8.0455 - lr: 1.8478e-06\n",
            "Epoch 40/100\n",
            "8/8 [==============================] - 0s 37ms/step - loss: 7.3934 - mae: 7.8757 - lr: 1.9953e-06\n",
            "Epoch 41/100\n",
            "8/8 [==============================] - 1s 57ms/step - loss: 7.2450 - mae: 7.7268 - lr: 2.1544e-06\n",
            "Epoch 42/100\n",
            "8/8 [==============================] - 1s 64ms/step - loss: 7.1705 - mae: 7.6532 - lr: 2.3263e-06\n",
            "Epoch 43/100\n",
            "8/8 [==============================] - 1s 68ms/step - loss: 6.9928 - mae: 7.4741 - lr: 2.5119e-06\n",
            "Epoch 44/100\n",
            "8/8 [==============================] - 0s 40ms/step - loss: 7.1056 - mae: 7.5878 - lr: 2.7123e-06\n",
            "Epoch 45/100\n",
            "8/8 [==============================] - 0s 38ms/step - loss: 7.0819 - mae: 7.5646 - lr: 2.9286e-06\n",
            "Epoch 46/100\n",
            "8/8 [==============================] - 0s 39ms/step - loss: 7.3991 - mae: 7.8830 - lr: 3.1623e-06\n",
            "Epoch 47/100\n",
            "8/8 [==============================] - 0s 38ms/step - loss: 7.7428 - mae: 8.2271 - lr: 3.4145e-06\n",
            "Epoch 48/100\n",
            "8/8 [==============================] - 0s 39ms/step - loss: 8.1837 - mae: 8.6705 - lr: 3.6869e-06\n",
            "Epoch 49/100\n",
            "8/8 [==============================] - 0s 38ms/step - loss: 8.8913 - mae: 9.3793 - lr: 3.9811e-06\n",
            "Epoch 50/100\n",
            "8/8 [==============================] - 0s 39ms/step - loss: 9.8644 - mae: 10.3540 - lr: 4.2987e-06\n",
            "Epoch 51/100\n",
            "8/8 [==============================] - 0s 39ms/step - loss: 9.1890 - mae: 9.6771 - lr: 4.6416e-06\n",
            "Epoch 52/100\n",
            "8/8 [==============================] - 0s 41ms/step - loss: 7.8919 - mae: 8.3780 - lr: 5.0119e-06\n",
            "Epoch 53/100\n",
            "8/8 [==============================] - 0s 39ms/step - loss: 8.5187 - mae: 9.0067 - lr: 5.4117e-06\n",
            "Epoch 54/100\n",
            "8/8 [==============================] - 1s 57ms/step - loss: 8.2263 - mae: 8.7130 - lr: 5.8434e-06\n",
            "Epoch 55/100\n",
            "8/8 [==============================] - 1s 64ms/step - loss: 9.2922 - mae: 9.7821 - lr: 6.3096e-06\n",
            "Epoch 56/100\n",
            "8/8 [==============================] - 1s 64ms/step - loss: 9.3054 - mae: 9.7946 - lr: 6.8129e-06\n",
            "Epoch 57/100\n",
            "8/8 [==============================] - 1s 63ms/step - loss: 9.2120 - mae: 9.7005 - lr: 7.3564e-06\n",
            "Epoch 58/100\n",
            "8/8 [==============================] - 0s 37ms/step - loss: 11.2984 - mae: 11.7927 - lr: 7.9433e-06\n",
            "Epoch 59/100\n",
            "8/8 [==============================] - 0s 38ms/step - loss: 11.3128 - mae: 11.8066 - lr: 8.5770e-06\n",
            "Epoch 60/100\n",
            "8/8 [==============================] - 0s 41ms/step - loss: 11.4315 - mae: 11.9251 - lr: 9.2612e-06\n",
            "Epoch 61/100\n",
            "8/8 [==============================] - 0s 38ms/step - loss: 11.9252 - mae: 12.4193 - lr: 1.0000e-05\n",
            "Epoch 62/100\n",
            "8/8 [==============================] - 0s 39ms/step - loss: 12.4156 - mae: 12.9104 - lr: 1.0798e-05\n",
            "Epoch 63/100\n",
            "8/8 [==============================] - 0s 37ms/step - loss: 13.8005 - mae: 14.2961 - lr: 1.1659e-05\n",
            "Epoch 64/100\n",
            "8/8 [==============================] - 0s 39ms/step - loss: 14.3232 - mae: 14.8206 - lr: 1.2589e-05\n",
            "Epoch 65/100\n",
            "8/8 [==============================] - 0s 37ms/step - loss: 14.5243 - mae: 15.0199 - lr: 1.3594e-05\n",
            "Epoch 66/100\n",
            "8/8 [==============================] - 0s 37ms/step - loss: 14.0490 - mae: 14.5437 - lr: 1.4678e-05\n",
            "Epoch 67/100\n",
            "8/8 [==============================] - 0s 38ms/step - loss: 15.7176 - mae: 16.2129 - lr: 1.5849e-05\n",
            "Epoch 68/100\n",
            "8/8 [==============================] - 0s 40ms/step - loss: 16.6418 - mae: 17.1366 - lr: 1.7113e-05\n",
            "Epoch 69/100\n",
            "8/8 [==============================] - 0s 40ms/step - loss: 16.1267 - mae: 16.6213 - lr: 1.8478e-05\n",
            "Epoch 70/100\n",
            "8/8 [==============================] - 0s 39ms/step - loss: 44.2495 - mae: 44.7459 - lr: 1.9953e-05\n",
            "Epoch 71/100\n",
            "8/8 [==============================] - 0s 38ms/step - loss: 78.0083 - mae: 78.5071 - lr: 2.1544e-05\n",
            "Epoch 72/100\n",
            "8/8 [==============================] - 0s 41ms/step - loss: 26.3945 - mae: 26.8909 - lr: 2.3263e-05\n",
            "Epoch 73/100\n",
            "8/8 [==============================] - 0s 38ms/step - loss: 46.9623 - mae: 47.4616 - lr: 2.5119e-05\n",
            "Epoch 74/100\n",
            "8/8 [==============================] - 0s 40ms/step - loss: 35.2554 - mae: 35.7519 - lr: 2.7123e-05\n",
            "Epoch 75/100\n",
            "8/8 [==============================] - 0s 37ms/step - loss: 50.4779 - mae: 50.9754 - lr: 2.9286e-05\n",
            "Epoch 76/100\n",
            "8/8 [==============================] - 1s 64ms/step - loss: 76.0784 - mae: 76.5757 - lr: 3.1623e-05\n",
            "Epoch 77/100\n",
            "8/8 [==============================] - 1s 64ms/step - loss: 50.4052 - mae: 50.9040 - lr: 3.4145e-05\n",
            "Epoch 78/100\n",
            "8/8 [==============================] - 0s 38ms/step - loss: 48.2993 - mae: 48.7990 - lr: 3.6869e-05\n",
            "Epoch 79/100\n",
            "8/8 [==============================] - 0s 39ms/step - loss: 45.1622 - mae: 45.6605 - lr: 3.9811e-05\n",
            "Epoch 80/100\n",
            "8/8 [==============================] - 0s 39ms/step - loss: 101.4681 - mae: 101.9679 - lr: 4.2987e-05\n",
            "Epoch 81/100\n",
            "8/8 [==============================] - 0s 37ms/step - loss: 88.1445 - mae: 88.6434 - lr: 4.6416e-05\n",
            "Epoch 82/100\n",
            "8/8 [==============================] - 0s 40ms/step - loss: 51.8577 - mae: 52.3556 - lr: 5.0119e-05\n",
            "Epoch 83/100\n",
            "8/8 [==============================] - 0s 39ms/step - loss: 119.1487 - mae: 119.6481 - lr: 5.4117e-05\n",
            "Epoch 84/100\n",
            "8/8 [==============================] - 0s 37ms/step - loss: 130.1836 - mae: 130.6831 - lr: 5.8434e-05\n",
            "Epoch 85/100\n",
            "8/8 [==============================] - 0s 37ms/step - loss: 48.6866 - mae: 49.1824 - lr: 6.3096e-05\n",
            "Epoch 86/100\n",
            "8/8 [==============================] - 0s 38ms/step - loss: 29.2984 - mae: 29.7960 - lr: 6.8129e-05\n",
            "Epoch 87/100\n",
            "8/8 [==============================] - 0s 40ms/step - loss: 32.2337 - mae: 32.7316 - lr: 7.3564e-05\n",
            "Epoch 88/100\n",
            "8/8 [==============================] - 0s 40ms/step - loss: 67.2058 - mae: 67.7041 - lr: 7.9433e-05\n",
            "Epoch 89/100\n",
            "8/8 [==============================] - 0s 39ms/step - loss: 54.2548 - mae: 54.7540 - lr: 8.5770e-05\n",
            "Epoch 90/100\n",
            "8/8 [==============================] - 0s 38ms/step - loss: 55.9675 - mae: 56.4672 - lr: 9.2612e-05\n",
            "Epoch 91/100\n",
            "8/8 [==============================] - 0s 39ms/step - loss: 64.6496 - mae: 65.1478 - lr: 1.0000e-04\n",
            "Epoch 92/100\n",
            "8/8 [==============================] - 0s 38ms/step - loss: 58.0149 - mae: 58.5130 - lr: 1.0798e-04\n",
            "Epoch 93/100\n",
            "8/8 [==============================] - 0s 40ms/step - loss: 51.5147 - mae: 52.0131 - lr: 1.1659e-04\n",
            "Epoch 94/100\n",
            "8/8 [==============================] - 0s 38ms/step - loss: 101.4196 - mae: 101.9195 - lr: 1.2589e-04\n",
            "Epoch 95/100\n",
            "8/8 [==============================] - 1s 65ms/step - loss: 101.8951 - mae: 102.3950 - lr: 1.3594e-04\n",
            "Epoch 96/100\n",
            "8/8 [==============================] - 1s 65ms/step - loss: 94.5729 - mae: 95.0727 - lr: 1.4678e-04\n",
            "Epoch 97/100\n",
            "8/8 [==============================] - 1s 42ms/step - loss: 118.6445 - mae: 119.1437 - lr: 1.5849e-04\n",
            "Epoch 98/100\n",
            "8/8 [==============================] - 0s 38ms/step - loss: 167.2390 - mae: 167.7389 - lr: 1.7113e-04\n",
            "Epoch 99/100\n",
            "8/8 [==============================] - 0s 37ms/step - loss: 184.1537 - mae: 184.6536 - lr: 1.8478e-04\n",
            "Epoch 100/100\n",
            "8/8 [==============================] - 0s 36ms/step - loss: 189.7671 - mae: 190.2671 - lr: 1.9953e-04\n"
          ]
        }
      ],
      "source": [
        "keras.backend.clear_session()\n",
        "tf.random.set_seed(42)\n",
        "np.random.seed(42)\n",
        "\n",
        "window_size = 30\n",
        "train_set = seq2seq_window_dataset(x_train, window_size,\n",
        "                                   batch_size=128)\n",
        "\n",
        "model = keras.models.Sequential([\n",
        "  keras.layers.SimpleRNN(100, return_sequences=True,\n",
        "                         input_shape=[None, 1]),\n",
        "  keras.layers.SimpleRNN(100, return_sequences=True),\n",
        "  keras.layers.Dense(1),\n",
        "  keras.layers.Lambda(lambda x: x * 200)\n",
        "])\n",
        "lr_schedule = keras.callbacks.LearningRateScheduler(\n",
        "    lambda epoch: 1e-7 * 10**(epoch / 30))\n",
        "optimizer = keras.optimizers.SGD(lr=1e-7, momentum=0.9)\n",
        "model.compile(loss=keras.losses.Huber(),\n",
        "              optimizer=optimizer,\n",
        "              metrics=[\"mae\"])\n",
        "history = model.fit(train_set, epochs=100, callbacks=[lr_schedule])"
      ]
    },
    {
      "cell_type": "code",
      "execution_count": 16,
      "metadata": {
        "id": "YGNsWceq8OI8",
        "outputId": "fca2b1e6-4624-4ff7-a236-e8a633f49989",
        "colab": {
          "base_uri": "https://localhost:8080/",
          "height": 457
        }
      },
      "outputs": [
        {
          "output_type": "execute_result",
          "data": {
            "text/plain": [
              "(1e-07, 0.0001, 0.0, 30.0)"
            ]
          },
          "metadata": {},
          "execution_count": 16
        },
        {
          "output_type": "display_data",
          "data": {
            "text/plain": [
              "<Figure size 640x480 with 1 Axes>"
            ],
            "image/png": "[encoded data removed]"
          },
          "metadata": {}
        }
      ],
      "source": [
        "plt.semilogx(history.history[\"lr\"], history.history[\"loss\"])\n",
        "plt.axis([1e-7, 1e-4, 0, 30])"
      ]
    },
    {
      "cell_type": "code",
      "execution_count": 17,
      "metadata": {
        "id": "G9lDnb0X8OI9",
        "outputId": "42865237-1998-42cd-b046-eb0c5797ba38",
        "colab": {
          "base_uri": "https://localhost:8080/"
        }
      },
      "outputs": [
        {
          "output_type": "stream",
          "name": "stderr",
          "text": [
            "WARNING:absl:`lr` is deprecated in Keras optimizer, please use `learning_rate` or use the legacy optimizer, e.g.,tf.keras.optimizers.legacy.SGD.\n"
          ]
        },
        {
          "output_type": "stream",
          "name": "stdout",
          "text": [
            "Epoch 1/500\n",
            "8/8 [==============================] - 3s 108ms/step - loss: 18353.3125 - mae: 18353.8145 - val_loss: 4731.1152 - val_mae: 4731.6152\n",
            "Epoch 2/500\n",
            "8/8 [==============================] - 1s 60ms/step - loss: 23711.6992 - mae: 23712.1973 - val_loss: 76909.4609 - val_mae: 76909.9609\n",
            "Epoch 3/500\n",
            "8/8 [==============================] - 1s 59ms/step - loss: 71677.7969 - mae: 71678.2891 - val_loss: 36751.5859 - val_mae: 36752.0859\n",
            "Epoch 4/500\n",
            "8/8 [==============================] - 1s 57ms/step - loss: 24712.1523 - mae: 24712.6543 - val_loss: 998.1763 - val_mae: 998.6763\n",
            "Epoch 5/500\n",
            "8/8 [==============================] - 1s 58ms/step - loss: 64468.0312 - mae: 64468.5273 - val_loss: 48400.6484 - val_mae: 48401.1523\n",
            "Epoch 6/500\n",
            "8/8 [==============================] - 1s 63ms/step - loss: 29753.5332 - mae: 29754.0332 - val_loss: 40443.7773 - val_mae: 40444.2734\n",
            "Epoch 7/500\n",
            "8/8 [==============================] - 1s 57ms/step - loss: 49837.1406 - mae: 49837.6406 - val_loss: 111638.8203 - val_mae: 111639.3125\n",
            "Epoch 8/500\n",
            "8/8 [==============================] - 1s 57ms/step - loss: 52837.5664 - mae: 52838.0586 - val_loss: 11897.2080 - val_mae: 11897.7080\n",
            "Epoch 9/500\n",
            "8/8 [==============================] - 1s 62ms/step - loss: 37255.9141 - mae: 37256.4141 - val_loss: 6768.8931 - val_mae: 6769.3936\n",
            "Epoch 10/500\n",
            "8/8 [==============================] - 1s 57ms/step - loss: 79976.5625 - mae: 79977.0547 - val_loss: 168815.6875 - val_mae: 168816.2031\n",
            "Epoch 11/500\n",
            "8/8 [==============================] - 1s 61ms/step - loss: 84935.9688 - mae: 84936.4531 - val_loss: 43116.8672 - val_mae: 43117.3633\n",
            "Epoch 12/500\n",
            "8/8 [==============================] - 1s 61ms/step - loss: 40524.2773 - mae: 40524.7734 - val_loss: 3831.7007 - val_mae: 3832.2004\n",
            "Epoch 13/500\n",
            "8/8 [==============================] - 1s 60ms/step - loss: 10794.2363 - mae: 10794.7363 - val_loss: 49419.3594 - val_mae: 49419.8594\n",
            "Epoch 14/500\n",
            "8/8 [==============================] - 1s 94ms/step - loss: 40745.1797 - mae: 40745.6758 - val_loss: 385.1375 - val_mae: 385.6375\n",
            "Epoch 15/500\n",
            "8/8 [==============================] - 1s 112ms/step - loss: 15769.5615 - mae: 15770.0615 - val_loss: 35475.3750 - val_mae: 35475.8789\n",
            "Epoch 16/500\n",
            "8/8 [==============================] - 1s 112ms/step - loss: 23423.6152 - mae: 23424.1172 - val_loss: 12187.8135 - val_mae: 12188.3135\n",
            "Epoch 17/500\n",
            "8/8 [==============================] - 1s 60ms/step - loss: 19364.3535 - mae: 19364.8516 - val_loss: 22489.9297 - val_mae: 22490.4316\n",
            "Epoch 18/500\n",
            "8/8 [==============================] - 1s 55ms/step - loss: 20213.9766 - mae: 20214.4746 - val_loss: 25903.8184 - val_mae: 25904.3184\n",
            "Epoch 19/500\n",
            "8/8 [==============================] - 1s 58ms/step - loss: 21673.1094 - mae: 21673.6094 - val_loss: 14922.5674 - val_mae: 14923.0674\n",
            "Epoch 20/500\n",
            "8/8 [==============================] - 1s 64ms/step - loss: 21486.2324 - mae: 21486.7305 - val_loss: 12172.5752 - val_mae: 12173.0762\n",
            "Epoch 21/500\n",
            "8/8 [==============================] - 1s 57ms/step - loss: 20093.1055 - mae: 20093.6074 - val_loss: 12796.1582 - val_mae: 12796.6562\n",
            "Epoch 22/500\n",
            "8/8 [==============================] - 1s 57ms/step - loss: 20332.1035 - mae: 20332.6016 - val_loss: 11044.1768 - val_mae: 11044.6777\n",
            "Epoch 23/500\n",
            "8/8 [==============================] - 1s 57ms/step - loss: 20080.7148 - mae: 20081.2168 - val_loss: 10280.9629 - val_mae: 10281.4629\n",
            "Epoch 24/500\n",
            "8/8 [==============================] - 1s 56ms/step - loss: 19417.5605 - mae: 19418.0645 - val_loss: 15649.2549 - val_mae: 15649.7549\n"
          ]
        },
        {
          "output_type": "execute_result",
          "data": {
            "text/plain": [
              "<keras.callbacks.History at 0x7ff9370c78b0>"
            ]
          },
          "metadata": {},
          "execution_count": 17
        }
      ],
      "source": [
        "keras.backend.clear_session()\n",
        "tf.random.set_seed(42)\n",
        "np.random.seed(42)\n",
        "\n",
        "window_size = 30\n",
        "train_set = seq2seq_window_dataset(x_train, window_size,\n",
        "                                   batch_size=128)\n",
        "valid_set = seq2seq_window_dataset(x_valid, window_size,\n",
        "                                   batch_size=128)\n",
        "\n",
        "model = keras.models.Sequential([\n",
        "  keras.layers.SimpleRNN(100, return_sequences=True,\n",
        "                         input_shape=[None, 1]),\n",
        "  keras.layers.SimpleRNN(100, return_sequences=True),\n",
        "  keras.layers.Dense(1),\n",
        "  keras.layers.Lambda(lambda x: x * 200.0)\n",
        "])\n",
        "optimizer = keras.optimizers.SGD(lr=1e-6, momentum=0.9)\n",
        "model.compile(loss=keras.losses.Huber(),\n",
        "              optimizer=optimizer,\n",
        "              metrics=[\"mae\"])\n",
        "early_stopping = keras.callbacks.EarlyStopping(patience=10)\n",
        "model.fit(train_set, epochs=500,\n",
        "          validation_data=valid_set,\n",
        "          callbacks=[early_stopping])"
      ]
    },
    {
      "cell_type": "code",
      "execution_count": 18,
      "metadata": {
        "id": "4mglBRex8OI_",
        "outputId": "02518eff-cac2-4b78-8744-52f209ba87d2",
        "colab": {
          "base_uri": "https://localhost:8080/"
        }
      },
      "outputs": [
        {
          "output_type": "stream",
          "name": "stdout",
          "text": [
            "45/45 [==============================] - 1s 10ms/step\n"
          ]
        }
      ],
      "source": [
        "rnn_forecast = model_forecast(model, series[..., np.newaxis], window_size)\n",
        "rnn_forecast = rnn_forecast[split_time - window_size:-1, -1, 0]"
      ]
    },
    {
      "cell_type": "code",
      "execution_count": 19,
      "metadata": {
        "id": "Zl_FkcdI8OJA",
        "outputId": "7e66fc2f-ded9-44d5-e377-b1963fe36a94",
        "colab": {
          "base_uri": "https://localhost:8080/",
          "height": 530
        }
      },
      "outputs": [
        {
          "output_type": "display_data",
          "data": {
            "text/plain": [
              "<Figure size 1000x600 with 1 Axes>"
            ],
            "image/png": "[encoded data removed]"
          },
          "metadata": {}
        }
      ],
      "source": [
        "plt.figure(figsize=(10, 6))\n",
        "plot_series(time_valid, x_valid)\n",
        "plot_series(time_valid, rnn_forecast)"
      ]
    },
    {
      "cell_type": "code",
      "execution_count": 20,
      "metadata": {
        "id": "cznEtSVK8OJB",
        "outputId": "89122464-8033-498e-dccf-4389bfb87225",
        "colab": {
          "base_uri": "https://localhost:8080/"
        }
      },
      "outputs": [
        {
          "output_type": "execute_result",
          "data": {
            "text/plain": [
              "15605.045"
            ]
          },
          "metadata": {},
          "execution_count": 20
        }
      ],
      "source": [
        "keras.metrics.mean_absolute_error(x_valid, rnn_forecast).numpy()"
      ]
    }
  ],
  "metadata": {
    "colab": {
      "collapsed_sections": [
        "vidayERjaO5q"
      ],
      "name": "l08c06_forecasting_with_rnn.ipynb",
      "toc_visible": true,
      "provenance": []
    },
    "kernelspec": {
      "display_name": "Python 3",
      "name": "python3"
    }
  },
  "nbformat": 4,
  "nbformat_minor": 0
}